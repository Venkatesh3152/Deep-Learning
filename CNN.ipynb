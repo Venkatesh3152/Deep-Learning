{
 "cells": [
  {
   "cell_type": "code",
   "execution_count": 1,
   "id": "d6753d15-2894-42b6-a39a-299d64d5a786",
   "metadata": {},
   "outputs": [],
   "source": [
    "import tensorflow as tf\n",
    "from tensorflow.keras.models import Sequential\n",
    "from tensorflow.keras.layers import Dense, Flatten\n",
    "from tensorflow.keras.preprocessing.image import ImageDataGenerator"
   ]
  },
  {
   "cell_type": "code",
   "execution_count": 2,
   "id": "950d8350-619c-401e-8a2f-363f0724b45d",
   "metadata": {},
   "outputs": [
    {
     "name": "stdout",
     "output_type": "stream",
     "text": [
      "Found 555 images belonging to 2 classes.\n",
      "Found 139 images belonging to 2 classes.\n"
     ]
    }
   ],
   "source": [
    "train_datagen = ImageDataGenerator(rescale=1./255)\n",
    "val_datagen = ImageDataGenerator(rescale=1./255)\n",
    "\n",
    "train_data = train_datagen.flow_from_directory(\n",
    "    \"C:\\\\Users\\\\COMP\\\\anaconda3\\\\deep learning\\\\dataset\\\\train\",\n",
    "    target_size=(64, 64),   # resize images\n",
    "    batch_size=32,\n",
    "    class_mode='binary'\n",
    ")\n",
    "\n",
    "val_data = val_datagen.flow_from_directory(\n",
    "    \"C:\\\\Users\\\\COMP\\\\anaconda3\\\\deep learning\\\\dataset\\\\test\",\n",
    "    target_size=(64, 64),\n",
    "    batch_size=32,\n",
    "    class_mode='binary'\n",
    ")\n"
   ]
  },
  {
   "cell_type": "code",
   "execution_count": 3,
   "id": "cfdd9c3e-2b85-4002-ab95-350a5f820eff",
   "metadata": {},
   "outputs": [],
   "source": [
    "model = Sequential([\n",
    "    # Convolution + Pooling\n",
    "    tf.keras.layers.Conv2D(32, (3,3), activation='relu', input_shape=(64,64,3)),\n",
    "    tf.keras.layers.MaxPooling2D(pool_size=(2,2)),\n",
    "\n",
    "    tf.keras.layers.Conv2D(64, (3,3), activation='relu'),\n",
    "    tf.keras.layers.MaxPooling2D(pool_size=(2,2)),\n",
    "\n",
    "    # Flatten + Dense\n",
    "    Flatten(),\n",
    "    Dense(128, activation='relu'),\n",
    "    Dense(1, activation='sigmoid')  # Binary classification (cat vs dog)\n",
    "])\n"
   ]
  },
  {
   "cell_type": "code",
   "execution_count": 4,
   "id": "0f7f99d8-f1c5-4d00-9ed9-5257a3b22350",
   "metadata": {},
   "outputs": [],
   "source": [
    "model.compile(optimizer='adam',\n",
    "              loss='binary_crossentropy',\n",
    "              metrics=['accuracy'])"
   ]
  },
  {
   "cell_type": "code",
   "execution_count": 5,
   "id": "1d58ddaf-dcc3-4c3e-8169-df45f50004e9",
   "metadata": {},
   "outputs": [
    {
     "name": "stdout",
     "output_type": "stream",
     "text": [
      "Epoch 1/10\n",
      "18/18 [==============================] - 6s 288ms/step - loss: 0.7355 - accuracy: 0.5189 - val_loss: 0.6926 - val_accuracy: 0.4964\n",
      "Epoch 2/10\n",
      "18/18 [==============================] - 4s 238ms/step - loss: 0.6732 - accuracy: 0.5892 - val_loss: 0.6866 - val_accuracy: 0.5540\n",
      "Epoch 3/10\n",
      "18/18 [==============================] - 4s 242ms/step - loss: 0.6276 - accuracy: 0.6649 - val_loss: 0.7082 - val_accuracy: 0.4892\n",
      "Epoch 4/10\n",
      "18/18 [==============================] - 4s 236ms/step - loss: 0.5528 - accuracy: 0.7297 - val_loss: 0.6609 - val_accuracy: 0.6475\n",
      "Epoch 5/10\n",
      "18/18 [==============================] - 4s 242ms/step - loss: 0.4886 - accuracy: 0.7694 - val_loss: 0.7271 - val_accuracy: 0.6043\n",
      "Epoch 6/10\n",
      "18/18 [==============================] - 4s 236ms/step - loss: 0.4128 - accuracy: 0.8252 - val_loss: 0.6824 - val_accuracy: 0.6763\n",
      "Epoch 7/10\n",
      "18/18 [==============================] - 4s 243ms/step - loss: 0.3392 - accuracy: 0.8505 - val_loss: 0.6858 - val_accuracy: 0.6547\n",
      "Epoch 8/10\n",
      "18/18 [==============================] - 4s 245ms/step - loss: 0.2850 - accuracy: 0.8883 - val_loss: 0.7189 - val_accuracy: 0.6619\n",
      "Epoch 9/10\n",
      "18/18 [==============================] - 4s 242ms/step - loss: 0.2058 - accuracy: 0.9315 - val_loss: 0.8316 - val_accuracy: 0.6547\n",
      "Epoch 10/10\n",
      "18/18 [==============================] - 4s 240ms/step - loss: 0.1510 - accuracy: 0.9622 - val_loss: 0.8676 - val_accuracy: 0.6187\n"
     ]
    },
    {
     "data": {
      "text/plain": [
       "<keras.callbacks.History at 0x170e36a6650>"
      ]
     },
     "execution_count": 5,
     "metadata": {},
     "output_type": "execute_result"
    }
   ],
   "source": [
    "model.fit(\n",
    "    train_data,\n",
    "    validation_data=val_data,\n",
    "    epochs=10\n",
    ")"
   ]
  },
  {
   "cell_type": "code",
   "execution_count": 6,
   "id": "ee9e225b-b286-4754-a627-570da33049c6",
   "metadata": {},
   "outputs": [
    {
     "name": "stdout",
     "output_type": "stream",
     "text": [
      "5/5 [==============================] - 1s 134ms/step - loss: 0.8676 - accuracy: 0.6187\n",
      "Validation Loss: 0.867600\n",
      "Validation Accuracy: 0.62\n"
     ]
    }
   ],
   "source": [
    "val_loss, val_acc = model.evaluate(val_data)\n",
    "print(f\"Validation Loss: {val_loss:2f}\")\n",
    "print(f\"Validation Accuracy: {val_acc:.2f}\")\n"
   ]
  },
  {
   "cell_type": "code",
   "execution_count": 9,
   "id": "59917928-793a-4a7a-bb69-a86afeea6b2a",
   "metadata": {},
   "outputs": [],
   "source": [
    "import numpy as np\n",
    "from tensorflow.keras.preprocessing import image\n",
    "\n",
    "# Path to your test image\n",
    "img_path = \"C:/Users/COMP/anaconda3/deep learning/dataset/test/dogs/dog_68.jpg\"\n",
    "\n",
    "# Load the image with same size used in training (64x64)\n",
    "img = image.load_img(img_path, target_size=(64, 64))\n",
    "\n",
    "# Convert to array\n",
    "img_array = image.img_to_array(img)\n",
    "\n",
    "# Expand dimensions -> model expects batch (1, 64, 64, 3)\n",
    "img_array = np.expand_dims(img_array, axis=0)\n",
    "\n",
    "# Rescale (same as training: 1./255)\n",
    "img_array = img_array / 255.0\n"
   ]
  },
  {
   "cell_type": "code",
   "execution_count": 10,
   "id": "d3d07f1b-acb4-465e-b3e5-692b219b2858",
   "metadata": {},
   "outputs": [
    {
     "name": "stdout",
     "output_type": "stream",
     "text": [
      "1/1 [==============================] - 0s 17ms/step\n",
      "Prediction: Dog 🐶\n"
     ]
    }
   ],
   "source": [
    "prediction = model.predict(img_array)\n",
    "\n",
    "if prediction[0][0] > 0.5:\n",
    "    print(\"Prediction: Dog 🐶\")\n",
    "else:\n",
    "    print(\"Prediction: Cat 🐱\")"
   ]
  },
  {
   "cell_type": "code",
   "execution_count": null,
   "id": "e2a686b4-5602-4ec7-ba37-ae3b132304c3",
   "metadata": {},
   "outputs": [],
   "source": []
  }
 ],
 "metadata": {
  "kernelspec": {
   "display_name": "Python 3 (ipykernel)",
   "language": "python",
   "name": "python3"
  },
  "language_info": {
   "codemirror_mode": {
    "name": "ipython",
    "version": 3
   },
   "file_extension": ".py",
   "mimetype": "text/x-python",
   "name": "python",
   "nbconvert_exporter": "python",
   "pygments_lexer": "ipython3",
   "version": "3.10.18"
  }
 },
 "nbformat": 4,
 "nbformat_minor": 5
}
