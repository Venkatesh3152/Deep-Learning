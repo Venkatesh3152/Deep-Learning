{
 "cells": [
  {
   "cell_type": "code",
   "execution_count": 1,
   "id": "d6753d15-2894-42b6-a39a-299d64d5a786",
   "metadata": {},
   "outputs": [],
   "source": [
    "import tensorflow as tf\n",
    "from tensorflow.keras.models import Sequential\n",
    "from tensorflow.keras.layers import Dense, Flatten\n",
    "from tensorflow.keras.preprocessing.image import ImageDataGenerator"
   ]
  },
  {
   "cell_type": "code",
   "execution_count": 2,
   "id": "950d8350-619c-401e-8a2f-363f0724b45d",
   "metadata": {},
   "outputs": [
    {
     "name": "stdout",
     "output_type": "stream",
     "text": [
      "Found 555 images belonging to 2 classes.\n",
      "Found 138 images belonging to 2 classes.\n"
     ]
    }
   ],
   "source": [
    "train_datagen = ImageDataGenerator(rescale=1./255)\n",
    "val_datagen = ImageDataGenerator(rescale=1./255)\n",
    "\n",
    "train_data = train_datagen.flow_from_directory(\n",
    "    \"C:\\\\Users\\\\COMP\\\\anaconda3\\\\deep learning\\\\dataset\\\\train\",\n",
    "    target_size=(64, 64),   # resize images\n",
    "    batch_size=32,\n",
    "    class_mode='binary'\n",
    ")\n",
    "\n",
    "val_data = val_datagen.flow_from_directory(\n",
    "    \"C:\\\\Users\\\\COMP\\\\anaconda3\\\\deep learning\\\\dataset\\\\test\",\n",
    "    target_size=(64, 64),\n",
    "    batch_size=32,\n",
    "    class_mode='binary'\n",
    ")\n"
   ]
  },
  {
   "cell_type": "code",
   "execution_count": 3,
   "id": "c2552481-c68f-49f8-b376-ff1cabfa40de",
   "metadata": {},
   "outputs": [],
   "source": [
    "model = Sequential([\n",
    "    Flatten(input_shape=(64, 64, 3)),      # flatten RGB image\n",
    "    Dense(128, activation='relu'),\n",
    "    Dense(64, activation='relu'),\n",
    "    Dense(1, activation='sigmoid')         # binary classification\n",
    "])\n"
   ]
  },
  {
   "cell_type": "code",
   "execution_count": 4,
   "id": "cd8763b9-bf0f-4762-ba77-1876b3b7bb05",
   "metadata": {},
   "outputs": [],
   "source": [
    "model.compile(optimizer='adam',\n",
    "              loss='binary_crossentropy',\n",
    "              metrics=['accuracy'])\n"
   ]
  },
  {
   "cell_type": "code",
   "execution_count": 5,
   "id": "cfdd9c3e-2b85-4002-ab95-350a5f820eff",
   "metadata": {},
   "outputs": [
    {
     "name": "stdout",
     "output_type": "stream",
     "text": [
      "1.15.3\n"
     ]
    }
   ],
   "source": [
    "import scipy\n",
    "print(scipy.__version__)"
   ]
  },
  {
   "cell_type": "code",
   "execution_count": 6,
   "id": "cd1aba94-bc1b-4d75-a994-3d20ea61eece",
   "metadata": {},
   "outputs": [
    {
     "name": "stdout",
     "output_type": "stream",
     "text": [
      "Epoch 1/10\n",
      "18/18 [==============================] - 4s 225ms/step - loss: 1.9102 - accuracy: 0.5333 - val_loss: 0.7417 - val_accuracy: 0.4783\n",
      "Epoch 2/10\n",
      "18/18 [==============================] - 3s 190ms/step - loss: 0.7730 - accuracy: 0.5477 - val_loss: 1.2431 - val_accuracy: 0.5000\n",
      "Epoch 3/10\n",
      "18/18 [==============================] - 4s 205ms/step - loss: 0.8510 - accuracy: 0.5189 - val_loss: 0.9796 - val_accuracy: 0.5000\n",
      "Epoch 4/10\n",
      "18/18 [==============================] - 4s 195ms/step - loss: 0.7286 - accuracy: 0.5802 - val_loss: 0.7079 - val_accuracy: 0.5435\n",
      "Epoch 5/10\n",
      "18/18 [==============================] - 3s 192ms/step - loss: 0.6440 - accuracy: 0.6450 - val_loss: 0.7104 - val_accuracy: 0.5435\n",
      "Epoch 6/10\n",
      "18/18 [==============================] - 3s 189ms/step - loss: 0.6274 - accuracy: 0.6360 - val_loss: 0.7016 - val_accuracy: 0.5507\n",
      "Epoch 7/10\n",
      "18/18 [==============================] - 3s 191ms/step - loss: 0.6464 - accuracy: 0.6486 - val_loss: 0.7593 - val_accuracy: 0.5217\n",
      "Epoch 8/10\n",
      "18/18 [==============================] - 3s 194ms/step - loss: 0.6122 - accuracy: 0.6613 - val_loss: 0.7014 - val_accuracy: 0.5942\n",
      "Epoch 9/10\n",
      "18/18 [==============================] - 3s 195ms/step - loss: 0.5807 - accuracy: 0.7081 - val_loss: 0.7085 - val_accuracy: 0.5870\n",
      "Epoch 10/10\n",
      "18/18 [==============================] - 4s 202ms/step - loss: 0.5456 - accuracy: 0.7459 - val_loss: 0.7136 - val_accuracy: 0.5797\n"
     ]
    },
    {
     "data": {
      "text/plain": [
       "<keras.callbacks.History at 0x1b27d11ce20>"
      ]
     },
     "execution_count": 6,
     "metadata": {},
     "output_type": "execute_result"
    }
   ],
   "source": [
    "model.fit(train_data,\n",
    "          validation_data=val_data,\n",
    "          epochs=10)\n"
   ]
  },
  {
   "cell_type": "code",
   "execution_count": 7,
   "id": "6e610504-bc09-4047-a0fc-7701f676e619",
   "metadata": {},
   "outputs": [
    {
     "name": "stdout",
     "output_type": "stream",
     "text": [
      "5/5 [==============================] - 1s 130ms/step - loss: 0.7136 - accuracy: 0.5797\n",
      "Validation Loss: 0.713565\n",
      "Validation Accuracy: 0.58\n"
     ]
    }
   ],
   "source": [
    "val_loss, val_acc = model.evaluate(val_data)\n",
    "print(f\"Validation Loss: {val_loss:2f}\")\n",
    "print(f\"Validation Accuracy: {val_acc:.2f}\")"
   ]
  },
  {
   "cell_type": "code",
   "execution_count": 8,
   "id": "30159d22-de9c-40e9-8291-2a3a06a0c6d4",
   "metadata": {},
   "outputs": [
    {
     "data": {
      "text/plain": [
       "0.5797101259231567"
      ]
     },
     "execution_count": 8,
     "metadata": {},
     "output_type": "execute_result"
    }
   ],
   "source": [
    " val_acc"
   ]
  },
  {
   "cell_type": "code",
   "execution_count": 9,
   "id": "cfb7414c-0c67-4f36-9f1a-90b466a76f6f",
   "metadata": {},
   "outputs": [],
   "source": [
    "import numpy as np\n",
    "from tensorflow.keras.preprocessing import image\n",
    "\n",
    "# Path to your test image\n",
    "img_path = \"C:/Users/COMP/anaconda3/deep learning/dataset/test/cat_s/cat_5.jpg\"\n",
    "\n",
    "# Load the image with same size used in training (64x64)\n",
    "img = image.load_img(img_path, target_size=(64, 64))\n",
    "\n",
    "# Convert to array\n",
    "img_array = image.img_to_array(img)\n",
    "\n",
    "# Expand dimensions -> model expects batch (1, 64, 64, 3)\n",
    "img_array = np.expand_dims(img_array, axis=0)\n",
    "\n",
    "# Rescale (same as training: 1./255)\n",
    "img_array = img_array / 255.0\n"
   ]
  },
  {
   "cell_type": "code",
   "execution_count": 10,
   "id": "53bcf002-e523-4646-b55c-4efebe5a4333",
   "metadata": {},
   "outputs": [
    {
     "name": "stdout",
     "output_type": "stream",
     "text": [
      "1/1 [==============================] - 0s 215ms/step\n",
      "Prediction: Cat 🐱\n"
     ]
    }
   ],
   "source": [
    "prediction = model.predict(img_array)\n",
    "\n",
    "if prediction[0][0] > 0.5:\n",
    "    print(\"Prediction: Dog 🐶\")\n",
    "else:\n",
    "    print(\"Prediction: Cat 🐱\")"
   ]
  },
  {
   "cell_type": "code",
   "execution_count": null,
   "id": "65df8758-e089-4751-9826-c6e453acd31d",
   "metadata": {},
   "outputs": [],
   "source": []
  }
 ],
 "metadata": {
  "kernelspec": {
   "display_name": "Python 3 (ipykernel)",
   "language": "python",
   "name": "python3"
  },
  "language_info": {
   "codemirror_mode": {
    "name": "ipython",
    "version": 3
   },
   "file_extension": ".py",
   "mimetype": "text/x-python",
   "name": "python",
   "nbconvert_exporter": "python",
   "pygments_lexer": "ipython3",
   "version": "3.10.18"
  }
 },
 "nbformat": 4,
 "nbformat_minor": 5
}
